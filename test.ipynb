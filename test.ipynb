{
 "cells": [
  {
   "cell_type": "code",
   "execution_count": 2,
   "id": "16fd65d6",
   "metadata": {},
   "outputs": [],
   "source": [
    "from numpy import testing\n",
    "import tensorflow as tf\n",
    "import numpy as np\n",
    "import matplotlib.pyplot as plt\n",
    "from tensorflow.python.keras.engine import training\n",
    "from vae import VAE\n",
    "from tensorflow.keras.datasets import mnist\n",
    "from mpl_toolkits.mplot3d import Axes3D\n",
    "import tensorflow_addons as tfa"
   ]
  },
  {
   "cell_type": "code",
   "execution_count": 29,
   "id": "d4e14a6c",
   "metadata": {},
   "outputs": [],
   "source": [
    "(x_train, y_train),(x_test, y_test) = mnist.load_data()\n",
    "\n",
    "training_0 = np.where(np.any([y_train == 0], axis = 0))\n",
    "training_1 = np.where(np.any([y_train == 1], axis = 0))\n",
    "training_2 = np.where(np.any([y_train == 2], axis = 0))\n",
    "\n",
    "testing_0 = np.where(np.any([y_test == 0], axis = 0))\n",
    "testing_1 = np.where(np.any([y_test == 1], axis = 0))\n",
    "testing_2 = np.where(np.any([y_test == 2], axis = 0))\n",
    "\n",
    "\n",
    "x_train_0 = (np.expand_dims(x_train, -1).astype('float32') / 255.)[training_0][:5923]\n",
    "x_train_1 = (np.expand_dims(x_train, -1).astype('float32') / 255.)[training_1][:5923]\n",
    "x_train_2 = (np.expand_dims(x_train, -1).astype('float32') / 255.)[training_2][:5923]\n",
    "\n",
    "\n",
    "x_test_0 = (np.expand_dims(x_test, -1).astype('float32') / 255.)[testing_0][:5923]\n",
    "x_test_1 = (np.expand_dims(x_test, -1).astype('float32') / 255.)[testing_1][:5923]\n",
    "x_test_2 = (np.expand_dims(x_test, -1).astype('float32') / 255.)[testing_2][:5923]  "
   ]
  },
  {
   "cell_type": "code",
   "execution_count": 4,
   "id": "69a74124",
   "metadata": {},
   "outputs": [],
   "source": [
    "mnist_digits = np.concatenate([x_train, x_test], axis=0)\n",
    "mnist_digits = np.expand_dims(mnist_digits, -1).astype(\"float32\") / 255"
   ]
  },
  {
   "cell_type": "code",
   "execution_count": 6,
   "id": "1763d8ea",
   "metadata": {},
   "outputs": [],
   "source": [
    "vae = VAE()"
   ]
  },
  {
   "cell_type": "code",
   "execution_count": 27,
   "id": "c09edde9",
   "metadata": {},
   "outputs": [],
   "source": [
    "vae.compile(optimizer=tf.keras.optimizers.Adam(), run_eagerly=True)"
   ]
  },
  {
   "cell_type": "code",
   "execution_count": 29,
   "id": "6e584f33",
   "metadata": {
    "collapsed": true
   },
   "outputs": [
    {
     "name": "stdout",
     "output_type": "stream",
     "text": [
      "Epoch 1/100\n",
      "547/547 [==============================] - 149s 273ms/step - total_loss: 94.9132 - reconstruction_loss: 93.2901 - kl_loss: 1.6230\n",
      "Epoch 2/100\n",
      "547/547 [==============================] - 147s 269ms/step - total_loss: 91.7741 - reconstruction_loss: 90.1389 - kl_loss: 1.6351\n",
      "Epoch 3/100\n",
      "547/547 [==============================] - 147s 270ms/step - total_loss: 89.9996 - reconstruction_loss: 88.2967 - kl_loss: 1.7028\n",
      "Epoch 4/100\n",
      "547/547 [==============================] - 155s 283ms/step - total_loss: 88.6967 - reconstruction_loss: 86.9189 - kl_loss: 1.7778\n",
      "Epoch 5/100\n",
      "547/547 [==============================] - 165s 301ms/step - total_loss: 87.5879 - reconstruction_loss: 85.7409 - kl_loss: 1.8470\n",
      "Epoch 6/100\n",
      "547/547 [==============================] - 163s 297ms/step - total_loss: 86.7513 - reconstruction_loss: 84.8580 - kl_loss: 1.8933\n",
      "Epoch 7/100\n",
      "547/547 [==============================] - 157s 287ms/step - total_loss: 86.1501 - reconstruction_loss: 84.2169 - kl_loss: 1.9333\n",
      "Epoch 8/100\n",
      "547/547 [==============================] - 156s 285ms/step - total_loss: 85.7009 - reconstruction_loss: 83.7472 - kl_loss: 1.9537\n",
      "Epoch 9/100\n",
      "547/547 [==============================] - 155s 283ms/step - total_loss: 85.3773 - reconstruction_loss: 83.4130 - kl_loss: 1.9643\n",
      "Epoch 10/100\n",
      "547/547 [==============================] - 159s 291ms/step - total_loss: 85.0217 - reconstruction_loss: 83.0439 - kl_loss: 1.9778\n",
      "Epoch 11/100\n",
      "547/547 [==============================] - 153s 280ms/step - total_loss: 84.7783 - reconstruction_loss: 82.8032 - kl_loss: 1.9751\n",
      "Epoch 12/100\n",
      "547/547 [==============================] - 154s 282ms/step - total_loss: 84.5566 - reconstruction_loss: 82.5847 - kl_loss: 1.9720\n",
      "Epoch 13/100\n",
      "547/547 [==============================] - 157s 287ms/step - total_loss: 84.3197 - reconstruction_loss: 82.3451 - kl_loss: 1.9745\n",
      "Epoch 14/100\n",
      "547/547 [==============================] - 153s 279ms/step - total_loss: 84.1338 - reconstruction_loss: 82.1656 - kl_loss: 1.9681\n",
      "Epoch 15/100\n",
      "547/547 [==============================] - 148s 271ms/step - total_loss: 84.0101 - reconstruction_loss: 82.0537 - kl_loss: 1.9565\n",
      "Epoch 16/100\n",
      "547/547 [==============================] - 147s 269ms/step - total_loss: 83.7788 - reconstruction_loss: 81.8309 - kl_loss: 1.9479\n",
      "Epoch 17/100\n",
      "547/547 [==============================] - 151s 277ms/step - total_loss: 83.6861 - reconstruction_loss: 81.7366 - kl_loss: 1.9495\n",
      "Epoch 18/100\n",
      "547/547 [==============================] - 152s 278ms/step - total_loss: 83.5248 - reconstruction_loss: 81.5749 - kl_loss: 1.9500\n",
      "Epoch 19/100\n",
      "547/547 [==============================] - 153s 280ms/step - total_loss: 83.3619 - reconstruction_loss: 81.4226 - kl_loss: 1.9393\n",
      "Epoch 20/100\n",
      "547/547 [==============================] - 161s 294ms/step - total_loss: 83.2920 - reconstruction_loss: 81.3481 - kl_loss: 1.9438\n",
      "Epoch 21/100\n",
      "547/547 [==============================] - 146s 267ms/step - total_loss: 83.1391 - reconstruction_loss: 81.1996 - kl_loss: 1.9395\n",
      "Epoch 22/100\n",
      "547/547 [==============================] - 157s 287ms/step - total_loss: 83.0501 - reconstruction_loss: 81.1126 - kl_loss: 1.9375\n",
      "Epoch 23/100\n",
      "547/547 [==============================] - 164s 299ms/step - total_loss: 82.9441 - reconstruction_loss: 81.0073 - kl_loss: 1.9367\n",
      "Epoch 24/100\n",
      "547/547 [==============================] - 169s 309ms/step - total_loss: 82.8509 - reconstruction_loss: 80.9163 - kl_loss: 1.9346\n",
      "Epoch 25/100\n",
      "547/547 [==============================] - 156s 285ms/step - total_loss: 82.7831 - reconstruction_loss: 80.8459 - kl_loss: 1.9372\n",
      "Epoch 26/100\n",
      "547/547 [==============================] - 145s 265ms/step - total_loss: 82.6277 - reconstruction_loss: 80.6866 - kl_loss: 1.9412\n",
      "Epoch 27/100\n",
      "547/547 [==============================] - 157s 286ms/step - total_loss: 82.5807 - reconstruction_loss: 80.6377 - kl_loss: 1.9430\n",
      "Epoch 28/100\n",
      "547/547 [==============================] - 146s 267ms/step - total_loss: 82.4644 - reconstruction_loss: 80.5148 - kl_loss: 1.9496\n",
      "Epoch 29/100\n",
      "547/547 [==============================] - 153s 280ms/step - total_loss: 82.4216 - reconstruction_loss: 80.4678 - kl_loss: 1.9537\n",
      "Epoch 30/100\n",
      "547/547 [==============================] - 164s 301ms/step - total_loss: 82.3122 - reconstruction_loss: 80.3598 - kl_loss: 1.9524\n",
      "Epoch 31/100\n",
      "547/547 [==============================] - 151s 276ms/step - total_loss: 82.2724 - reconstruction_loss: 80.3107 - kl_loss: 1.9616\n",
      "Epoch 32/100\n",
      "547/547 [==============================] - 152s 277ms/step - total_loss: 82.1784 - reconstruction_loss: 80.2220 - kl_loss: 1.9565\n",
      "Epoch 33/100\n",
      "547/547 [==============================] - 157s 287ms/step - total_loss: 82.1125 - reconstruction_loss: 80.1507 - kl_loss: 1.9619\n",
      "Epoch 34/100\n",
      "547/547 [==============================] - 155s 283ms/step - total_loss: 82.0295 - reconstruction_loss: 80.0574 - kl_loss: 1.9721\n",
      "Epoch 35/100\n",
      "547/547 [==============================] - 156s 285ms/step - total_loss: 81.9756 - reconstruction_loss: 80.0042 - kl_loss: 1.9713\n",
      "Epoch 36/100\n",
      "547/547 [==============================] - 169s 308ms/step - total_loss: 81.9095 - reconstruction_loss: 79.9372 - kl_loss: 1.9723\n",
      "Epoch 37/100\n",
      "547/547 [==============================] - 148s 271ms/step - total_loss: 81.8826 - reconstruction_loss: 79.9061 - kl_loss: 1.9765\n",
      "Epoch 38/100\n",
      "547/547 [==============================] - 151s 276ms/step - total_loss: 81.7938 - reconstruction_loss: 79.8184 - kl_loss: 1.9753\n",
      "Epoch 39/100\n",
      "547/547 [==============================] - 151s 276ms/step - total_loss: 81.7659 - reconstruction_loss: 79.7865 - kl_loss: 1.9793\n",
      "Epoch 40/100\n",
      "547/547 [==============================] - 138s 253ms/step - total_loss: 81.6548 - reconstruction_loss: 79.6695 - kl_loss: 1.9852\n",
      "Epoch 41/100\n",
      "547/547 [==============================] - 153s 279ms/step - total_loss: 81.6383 - reconstruction_loss: 79.6528 - kl_loss: 1.9855\n",
      "Epoch 42/100\n",
      "547/547 [==============================] - 155s 284ms/step - total_loss: 81.5881 - reconstruction_loss: 79.5973 - kl_loss: 1.9908\n",
      "Epoch 43/100\n",
      "547/547 [==============================] - 162s 296ms/step - total_loss: 81.5090 - reconstruction_loss: 79.5162 - kl_loss: 1.9928\n",
      "Epoch 44/100\n",
      "547/547 [==============================] - 161s 295ms/step - total_loss: 81.4985 - reconstruction_loss: 79.4982 - kl_loss: 2.0003\n",
      "Epoch 45/100\n",
      "547/547 [==============================] - 159s 291ms/step - total_loss: 81.4323 - reconstruction_loss: 79.4322 - kl_loss: 2.0000\n",
      "Epoch 46/100\n",
      "547/547 [==============================] - 171s 313ms/step - total_loss: 81.3955 - reconstruction_loss: 79.3874 - kl_loss: 2.0081\n",
      "Epoch 47/100\n",
      "547/547 [==============================] - 156s 286ms/step - total_loss: 81.3868 - reconstruction_loss: 79.3807 - kl_loss: 2.0061\n",
      "Epoch 48/100\n",
      "547/547 [==============================] - 163s 298ms/step - total_loss: 81.2991 - reconstruction_loss: 79.2932 - kl_loss: 2.0059\n",
      "Epoch 49/100\n",
      "547/547 [==============================] - 150s 274ms/step - total_loss: 81.2658 - reconstruction_loss: 79.2510 - kl_loss: 2.0148\n",
      "Epoch 50/100\n",
      "547/547 [==============================] - 147s 269ms/step - total_loss: 81.2095 - reconstruction_loss: 79.1942 - kl_loss: 2.0154\n",
      "Epoch 51/100\n",
      "547/547 [==============================] - 148s 270ms/step - total_loss: 81.1909 - reconstruction_loss: 79.1803 - kl_loss: 2.0106\n",
      "Epoch 52/100\n",
      "547/547 [==============================] - 147s 269ms/step - total_loss: 81.1646 - reconstruction_loss: 79.1464 - kl_loss: 2.0181\n",
      "Epoch 53/100\n",
      "547/547 [==============================] - 162s 296ms/step - total_loss: 81.1069 - reconstruction_loss: 79.0831 - kl_loss: 2.0239\n",
      "Epoch 54/100\n",
      "547/547 [==============================] - 147s 268ms/step - total_loss: 81.1150 - reconstruction_loss: 79.0936 - kl_loss: 2.0214\n",
      "Epoch 55/100\n",
      "547/547 [==============================] - 147s 268ms/step - total_loss: 81.0032 - reconstruction_loss: 78.9786 - kl_loss: 2.0245\n",
      "Epoch 56/100\n",
      "547/547 [==============================] - 147s 268ms/step - total_loss: 80.9899 - reconstruction_loss: 78.9676 - kl_loss: 2.0223\n",
      "Epoch 57/100\n",
      "547/547 [==============================] - 145s 266ms/step - total_loss: 80.8945 - reconstruction_loss: 78.8724 - kl_loss: 2.0222\n",
      "Epoch 58/100\n"
     ]
    },
    {
     "name": "stdout",
     "output_type": "stream",
     "text": [
      "547/547 [==============================] - 146s 267ms/step - total_loss: 80.9084 - reconstruction_loss: 78.8741 - kl_loss: 2.0344\n",
      "Epoch 59/100\n",
      "547/547 [==============================] - 145s 266ms/step - total_loss: 80.8488 - reconstruction_loss: 78.8126 - kl_loss: 2.0362\n",
      "Epoch 60/100\n",
      "547/547 [==============================] - 145s 265ms/step - total_loss: 80.8176 - reconstruction_loss: 78.7841 - kl_loss: 2.0335\n",
      "Epoch 61/100\n",
      "547/547 [==============================] - 145s 265ms/step - total_loss: 80.8158 - reconstruction_loss: 78.7837 - kl_loss: 2.0321\n",
      "Epoch 62/100\n",
      "547/547 [==============================] - 145s 266ms/step - total_loss: 80.7677 - reconstruction_loss: 78.7303 - kl_loss: 2.0374\n",
      "Epoch 63/100\n",
      "547/547 [==============================] - 145s 265ms/step - total_loss: 80.7782 - reconstruction_loss: 78.7334 - kl_loss: 2.0447\n",
      "Epoch 64/100\n",
      "547/547 [==============================] - 145s 265ms/step - total_loss: 80.7473 - reconstruction_loss: 78.7126 - kl_loss: 2.0347\n",
      "Epoch 65/100\n",
      "547/547 [==============================] - 145s 265ms/step - total_loss: 80.6643 - reconstruction_loss: 78.6257 - kl_loss: 2.0386\n",
      "Epoch 66/100\n",
      "547/547 [==============================] - 145s 265ms/step - total_loss: 80.6547 - reconstruction_loss: 78.6147 - kl_loss: 2.0400\n",
      "Epoch 67/100\n",
      "547/547 [==============================] - 145s 264ms/step - total_loss: 80.5892 - reconstruction_loss: 78.5441 - kl_loss: 2.0451\n",
      "Epoch 68/100\n",
      "547/547 [==============================] - 146s 268ms/step - total_loss: 80.6384 - reconstruction_loss: 78.5939 - kl_loss: 2.0445\n",
      "Epoch 69/100\n",
      "547/547 [==============================] - 145s 265ms/step - total_loss: 80.5306 - reconstruction_loss: 78.4833 - kl_loss: 2.0474\n",
      "Epoch 70/100\n",
      "547/547 [==============================] - 145s 265ms/step - total_loss: 80.5604 - reconstruction_loss: 78.5105 - kl_loss: 2.0499\n",
      "Epoch 71/100\n",
      "547/547 [==============================] - 145s 265ms/step - total_loss: 80.4767 - reconstruction_loss: 78.4204 - kl_loss: 2.0564\n",
      "Epoch 72/100\n",
      "547/547 [==============================] - 145s 265ms/step - total_loss: 80.4535 - reconstruction_loss: 78.4051 - kl_loss: 2.0485\n",
      "Epoch 73/100\n",
      "547/547 [==============================] - 145s 265ms/step - total_loss: 80.4967 - reconstruction_loss: 78.4460 - kl_loss: 2.0506\n",
      "Epoch 74/100\n",
      "547/547 [==============================] - 146s 266ms/step - total_loss: 80.4461 - reconstruction_loss: 78.3878 - kl_loss: 2.0583\n",
      "Epoch 75/100\n",
      "547/547 [==============================] - 145s 265ms/step - total_loss: 80.3696 - reconstruction_loss: 78.3130 - kl_loss: 2.0566\n",
      "Epoch 76/100\n",
      "547/547 [==============================] - 145s 265ms/step - total_loss: 80.3902 - reconstruction_loss: 78.3304 - kl_loss: 2.0598\n",
      "Epoch 77/100\n",
      "547/547 [==============================] - 146s 266ms/step - total_loss: 80.3722 - reconstruction_loss: 78.3084 - kl_loss: 2.0638\n",
      "Epoch 78/100\n",
      "547/547 [==============================] - 145s 265ms/step - total_loss: 80.3298 - reconstruction_loss: 78.2718 - kl_loss: 2.0580\n",
      "Epoch 79/100\n",
      "547/547 [==============================] - 145s 265ms/step - total_loss: 80.2802 - reconstruction_loss: 78.2178 - kl_loss: 2.0625\n",
      "Epoch 80/100\n",
      "547/547 [==============================] - 145s 265ms/step - total_loss: 80.3074 - reconstruction_loss: 78.2451 - kl_loss: 2.0624\n",
      "Epoch 81/100\n",
      "547/547 [==============================] - 145s 265ms/step - total_loss: 80.2796 - reconstruction_loss: 78.2136 - kl_loss: 2.0661\n",
      "Epoch 82/100\n",
      "547/547 [==============================] - 145s 264ms/step - total_loss: 80.2233 - reconstruction_loss: 78.1539 - kl_loss: 2.0695\n",
      "Epoch 83/100\n",
      "547/547 [==============================] - 145s 265ms/step - total_loss: 80.2188 - reconstruction_loss: 78.1532 - kl_loss: 2.0656\n",
      "Epoch 84/100\n",
      "547/547 [==============================] - 145s 264ms/step - total_loss: 80.1993 - reconstruction_loss: 78.1378 - kl_loss: 2.0615\n",
      "Epoch 85/100\n",
      "547/547 [==============================] - 145s 265ms/step - total_loss: 80.1023 - reconstruction_loss: 78.0302 - kl_loss: 2.0721\n",
      "Epoch 86/100\n",
      "547/547 [==============================] - 144s 264ms/step - total_loss: 80.0891 - reconstruction_loss: 78.0174 - kl_loss: 2.0718\n",
      "Epoch 87/100\n",
      "547/547 [==============================] - 145s 266ms/step - total_loss: 80.1129 - reconstruction_loss: 78.0405 - kl_loss: 2.0724\n",
      "Epoch 88/100\n",
      "547/547 [==============================] - 145s 265ms/step - total_loss: 80.0847 - reconstruction_loss: 78.0118 - kl_loss: 2.0728\n",
      "Epoch 89/100\n",
      "547/547 [==============================] - 145s 265ms/step - total_loss: 80.1011 - reconstruction_loss: 78.0221 - kl_loss: 2.0790\n",
      "Epoch 90/100\n",
      "547/547 [==============================] - 145s 265ms/step - total_loss: 80.0456 - reconstruction_loss: 77.9707 - kl_loss: 2.0748\n",
      "Epoch 91/100\n",
      "547/547 [==============================] - 145s 265ms/step - total_loss: 80.0071 - reconstruction_loss: 77.9305 - kl_loss: 2.0767\n",
      "Epoch 92/100\n",
      "547/547 [==============================] - 145s 265ms/step - total_loss: 79.9876 - reconstruction_loss: 77.9055 - kl_loss: 2.0822\n",
      "Epoch 93/100\n",
      "547/547 [==============================] - 145s 266ms/step - total_loss: 79.9496 - reconstruction_loss: 77.8704 - kl_loss: 2.0792\n",
      "Epoch 94/100\n",
      "547/547 [==============================] - 145s 265ms/step - total_loss: 79.9362 - reconstruction_loss: 77.8510 - kl_loss: 2.0852\n",
      "Epoch 95/100\n",
      "547/547 [==============================] - 146s 266ms/step - total_loss: 79.9415 - reconstruction_loss: 77.8574 - kl_loss: 2.0841\n",
      "Epoch 96/100\n",
      "547/547 [==============================] - 145s 266ms/step - total_loss: 79.8955 - reconstruction_loss: 77.8101 - kl_loss: 2.0853\n",
      "Epoch 97/100\n",
      "547/547 [==============================] - 145s 265ms/step - total_loss: 79.8355 - reconstruction_loss: 77.7534 - kl_loss: 2.0820\n",
      "Epoch 98/100\n",
      "547/547 [==============================] - 145s 265ms/step - total_loss: 79.8930 - reconstruction_loss: 77.8050 - kl_loss: 2.0880\n",
      "Epoch 99/100\n",
      "547/547 [==============================] - 145s 265ms/step - total_loss: 79.8479 - reconstruction_loss: 77.7566 - kl_loss: 2.0912\n",
      "Epoch 100/100\n",
      "547/547 [==============================] - 145s 265ms/step - total_loss: 79.7839 - reconstruction_loss: 77.6994 - kl_loss: 2.0844\n"
     ]
    },
    {
     "data": {
      "text/plain": [
       "<keras.callbacks.History at 0x7fae8688e190>"
      ]
     },
     "execution_count": 29,
     "metadata": {},
     "output_type": "execute_result"
    }
   ],
   "source": [
    "#vae.fit([x_train_0, x_train_1, x_train_2], epochs=30, batch_size=128)\n",
    "\n",
    "#vae.fit(\n",
    "#    {\"input_1\": x_train_0, \"input_2\": x_train_1, \"input_3\": x_train_2},\n",
    "#    epochs=30 ,\n",
    "#    batch_size=32,\n",
    "#)\n",
    "vae.fit([mnist_digits, mnist_digits, mnist_digits], epochs=100, batch_size=128)"
   ]
  },
  {
   "cell_type": "code",
   "execution_count": 7,
   "id": "e38b86c6",
   "metadata": {
    "scrolled": true
   },
   "outputs": [
    {
     "name": "stdout",
     "output_type": "stream",
     "text": [
      "WARNING:tensorflow:No training configuration found in the save file, so the model was *not* compiled. Compile it manually.\n",
      "WARNING:tensorflow:No training configuration found in the save file, so the model was *not* compiled. Compile it manually.\n"
     ]
    }
   ],
   "source": [
    "vae_trained = VAE()\n",
    "vae_trained.encoder = tf.keras.models.load_model('100_epochs_2d_encoder.h5')\n",
    "vae_trained.decoder = tf.keras.models.load_model('100_epochs_2d_decoder.h5')\n",
    "vae_trained.compile(optimizer=tf.keras.optimizers.Adam(), run_eagerly=True)"
   ]
  },
  {
   "cell_type": "code",
   "execution_count": 83,
   "id": "92ad54b3",
   "metadata": {},
   "outputs": [
    {
     "data": {
      "text/plain": [
       "Text(0.5, 1.0, 'Random draw after 30 epochs')"
      ]
     },
     "execution_count": 83,
     "metadata": {},
     "output_type": "execute_result"
    },
    {
     "data": {
      "image/png": "[encoded data removed]",
      "text/plain": [
       "<Figure size 432x288 with 1 Axes>"
      ]
     },
     "metadata": {
      "needs_background": "light"
     },
     "output_type": "display_data"
    }
   ],
   "source": [
    "plt.figure(0)\n",
    "plt.imshow(vae_trained.sample_image(1).reshape((28,28)))\n",
    "plt.title('Random draw after 30 epochs')"
   ]
  },
  {
   "cell_type": "code",
   "execution_count": 33,
   "id": "60deb8fa",
   "metadata": {},
   "outputs": [
    {
     "data": {
      "text/plain": [
       "Text(0, 0.5, '$z_2$')"
      ]
     },
     "execution_count": 33,
     "metadata": {},
     "output_type": "execute_result"
    },
    {
     "data": {
      "image/png": "[encoded data removed]",
      "text/plain": [
       "<Figure size 432x288 with 1 Axes>"
      ]
     },
     "metadata": {
      "needs_background": "light"
     },
     "output_type": "display_data"
    }
   ],
   "source": [
    "z = vae_trained.encod([x_train_0, x_train_1, x_train_2])[0].numpy()\n",
    "plt.scatter(z[:,0], z[:,1])\n",
    "plt.title('VAE trained with 30 epochs')\n",
    "plt.xlabel('$z_1$')\n",
    "plt.ylabel('$z_2$')"
   ]
  },
  {
   "cell_type": "code",
   "execution_count": 78,
   "id": "ff0aabfc",
   "metadata": {},
   "outputs": [
    {
     "data": {
      "text/plain": [
       "<matplotlib.legend.Legend at 0x7fa02ab34e50>"
      ]
     },
     "execution_count": 78,
     "metadata": {},
     "output_type": "execute_result"
    },
    {
     "data": {
      "image/png": "[encoded data removed]",
      "text/plain": [
       "<Figure size 432x288 with 1 Axes>"
      ]
     },
     "metadata": {
      "needs_background": "light"
     },
     "output_type": "display_data"
    }
   ],
   "source": [
    "from sklearn.cluster import KMeans\n",
    "no_clusters = 4\n",
    "km = KMeans(n_clusters = no_clusters).fit(z)\n",
    "labels = km.labels_\n",
    "fig, ax = plt.subplots()\n",
    "for i in np.unique(labels):\n",
    "    ax.scatter(z[np.where(labels==i),0],\n",
    "               z[np.where(labels==i),1], label=i)\n",
    "ax.set(title='VAE trained with 30 epochs', xlabel='$z_1$',ylabel='$z_2$')\n",
    "plt.legend()"
   ]
  },
  {
   "cell_type": "code",
   "execution_count": 65,
   "id": "97346093",
   "metadata": {},
   "outputs": [],
   "source": [
    "#vae.save_model(\"100_epochs\")"
   ]
  },
  {
   "cell_type": "code",
   "execution_count": 67,
   "id": "06d30a84",
   "metadata": {},
   "outputs": [
    {
     "name": "stdout",
     "output_type": "stream",
     "text": [
      "WARNING:tensorflow:No training configuration found in the save file, so the model was *not* compiled. Compile it manually.\n",
      "WARNING:tensorflow:No training configuration found in the save file, so the model was *not* compiled. Compile it manually.\n"
     ]
    }
   ],
   "source": [
    "model_0_1_2 = VAE()\n",
    "model_0_1_2.encoder = tf.keras.models.load_model('output/0_1_2_model_2d_encoder.h5')\n",
    "model_0_1_2.decoder = tf.keras.models.load_model('output/0_1_2_model_2d_decoder.h5')\n",
    "model_0_1_2.compile(optimizer=tf.keras.optimizers.Adam(), run_eagerly=True)"
   ]
  },
  {
   "cell_type": "code",
   "execution_count": 84,
   "id": "15d4d9e9",
   "metadata": {},
   "outputs": [
    {
     "data": {
      "text/plain": [
       "Text(0.5, 1.0, 'Random draw after 30 epochs')"
      ]
     },
     "execution_count": 84,
     "metadata": {},
     "output_type": "execute_result"
    },
    {
     "data": {
      "image/png": "[encoded data removed]",
      "text/plain": [
       "<Figure size 432x288 with 1 Axes>"
      ]
     },
     "metadata": {
      "needs_background": "light"
     },
     "output_type": "display_data"
    }
   ],
   "source": [
    "plt.figure(0)\n",
    "plt.imshow(model_0_1_2.sample_image(1).reshape((28,28)))\n",
    "plt.title('Random draw after 30 epochs')"
   ]
  },
  {
   "cell_type": "code",
   "execution_count": 70,
   "id": "02856290",
   "metadata": {},
   "outputs": [
    {
     "data": {
      "text/plain": [
       "Text(0, 0.5, '$z_2$')"
      ]
     },
     "execution_count": 70,
     "metadata": {},
     "output_type": "execute_result"
    },
    {
     "data": {
      "image/png": "[encoded data removed]",
      "text/plain": [
       "<Figure size 432x288 with 1 Axes>"
      ]
     },
     "metadata": {
      "needs_background": "light"
     },
     "output_type": "display_data"
    }
   ],
   "source": [
    "z1 = model_0_1_2.encod([x_train_0, x_train_1, x_train_2])[0].numpy()\n",
    "plt.scatter(z1[:,0], z1[:,1])\n",
    "plt.title('VAE trained with 30 epochs')\n",
    "plt.xlabel('$z_1$')\n",
    "plt.ylabel('$z_2$')"
   ]
  },
  {
   "cell_type": "code",
   "execution_count": 75,
   "id": "59a32de3",
   "metadata": {},
   "outputs": [
    {
     "data": {
      "text/plain": [
       "Text(0, 0.5, '$z_2$')"
      ]
     },
     "execution_count": 75,
     "metadata": {},
     "output_type": "execute_result"
    },
    {
     "data": {
      "image/png": "[encoded data removed]",
      "text/plain": [
       "<Figure size 432x288 with 1 Axes>"
      ]
     },
     "metadata": {
      "needs_background": "light"
     },
     "output_type": "display_data"
    }
   ],
   "source": [
    "z1 = model_0_1_2.encod([mnist_digits[:5923], mnist_digits[:5923], mnist_digits[:5923]])[0].numpy()\n",
    "plt.scatter(z1[:,0], z1[:,1])\n",
    "plt.title('VAE trained with 30 epochs')\n",
    "plt.xlabel('$z_1$')\n",
    "plt.ylabel('$z_2$')"
   ]
  },
  {
   "cell_type": "code",
   "execution_count": 72,
   "id": "4dd6a745",
   "metadata": {},
   "outputs": [
    {
     "data": {
      "text/plain": [
       "<matplotlib.legend.Legend at 0x7fa02ae75ac0>"
      ]
     },
     "execution_count": 72,
     "metadata": {},
     "output_type": "execute_result"
    },
    {
     "data": {
      "image/png": "[encoded data removed]",
      "text/plain": [
       "<Figure size 432x288 with 1 Axes>"
      ]
     },
     "metadata": {
      "needs_background": "light"
     },
     "output_type": "display_data"
    }
   ],
   "source": [
    "from sklearn.cluster import KMeans\n",
    "no_clusters = 1\n",
    "km = KMeans(n_clusters = no_clusters).fit(z1)\n",
    "labels = km.labels_\n",
    "fig, ax = plt.subplots()\n",
    "for i in np.unique(labels):\n",
    "    ax.scatter(z1[np.where(labels==i),0],\n",
    "               z1[np.where(labels==i),1], label=i)\n",
    "ax.set(title='VAE trained with 30 epochs', xlabel='$z_1$',ylabel='$z_2$')\n",
    "plt.legend()"
   ]
  },
  {
   "cell_type": "code",
   "execution_count": null,
   "id": "033c721a",
   "metadata": {},
   "outputs": [],
   "source": [
    "feature_model = tf.keras.models(inputs=model_0_1_2.input, outputs=model_0_1_2.get_layer(name=\"embedding\"))\n",
    "feature = feature_model.predict([mnist_digits[:5923], mnist_digits[:5923], mnist_digits[:5923]])\n",
    "print('feature shape=', features.shape)\n",
    "km = KMeans(3)\n",
    "features = np.reshape(features, newshape=(features.shape[0], -1))\n",
    "pred = km.fit_predict(features)\n",
    "plt.scatter(pred[:,0], pred[:,1])\n",
    "plt.title('VAE trained with 30 epochs')\n",
    "plt.xlabel('$z_1$')\n",
    "plt.ylabel('$z_2$')"
   ]
  },
  {
   "cell_type": "code",
   "execution_count": null,
   "id": "e002d552",
   "metadata": {},
   "outputs": [],
   "source": []
  }
 ],
 "metadata": {
  "kernelspec": {
   "display_name": "Python 3 (ipykernel)",
   "language": "python",
   "name": "python3"
  },
  "language_info": {
   "codemirror_mode": {
    "name": "ipython",
    "version": 3
   },
   "file_extension": ".py",
   "mimetype": "text/x-python",
   "name": "python",
   "nbconvert_exporter": "python",
   "pygments_lexer": "ipython3",
   "version": "3.8.5"
  }
 },
 "nbformat": 4,
 "nbformat_minor": 5
}
